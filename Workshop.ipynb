{
 "cells": [
  {
   "cell_type": "code",
   "execution_count": 2,
   "id": "6822cc78",
   "metadata": {},
   "outputs": [],
   "source": [
    "import psycopg2\n",
    "import pandas as pd"
   ]
  },
  {
   "cell_type": "code",
   "execution_count": 3,
   "id": "70fed0ee",
   "metadata": {},
   "outputs": [],
   "source": [
    "def connection():\n",
    "    try:\n",
    "        conn = psycopg2.connect(\n",
    "            host = 'localhost',\n",
    "            user = 'postgres',\n",
    "            password = '4332794',\n",
    "            database = 'postgres'\n",
    "        )\n",
    "        print('¡Conexion exitosa!!')\n",
    "        return conn\n",
    "        \n",
    "    except Exception as ex:\n",
    "        print(ex)\n",
    "        "
   ]
  },
  {
   "cell_type": "code",
   "execution_count": 23,
   "id": "13ffe5da",
   "metadata": {},
   "outputs": [
    {
     "name": "stdout",
     "output_type": "stream",
     "text": [
      "¡Conexion exitosa!!\n",
      "¡Tabla creada!\n"
     ]
    }
   ],
   "source": [
    "def createtable():\n",
    "    conn = connection()\n",
    "    cursor = conn.cursor()\n",
    "    sql = '''\n",
    "                 CREATE TABLE candidates\n",
    "                (first_name varchar, \n",
    "                 last_name varchar,\n",
    "                 email varchar,\n",
    "                 application_date date,\n",
    "                 country varchar,\n",
    "                 YOE INT,\n",
    "                 seniority varchar,\n",
    "                 technology varchar,\n",
    "                 code_challenge_score INT,\n",
    "                 technical_interview_score INT\n",
    "                );\n",
    "                 '''   \n",
    "    cursor.execute(sql)\n",
    "    conn.commit()\n",
    "    print('¡Tabla creada!')\n",
    "createtable()"
   ]
  },
  {
   "cell_type": "code",
   "execution_count": 24,
   "id": "0c376614",
   "metadata": {},
   "outputs": [
    {
     "name": "stdout",
     "output_type": "stream",
     "text": [
      "¡Conexion exitosa!!\n",
      "¡Registros ingresados!\n"
     ]
    }
   ],
   "source": [
    "def copydata():\n",
    "    conn = connection()\n",
    "    cursor = conn.cursor()\n",
    "\n",
    "    sql = '''\n",
    "            COPY candidates(first_name, last_name, email, application_date, country, YOE, seniority, technology, code_challenge_score, technical_interview_score)\n",
    "            FROM 'C:/data/candidates.csv' DELIMITER ';' CSV HEADER;\n",
    "          '''\n",
    "    cursor.execute(sql)\n",
    "    conn.commit()\n",
    "    print('¡Registros ingresados!')\n",
    "copydata()"
   ]
  },
  {
   "cell_type": "code",
   "execution_count": 34,
   "id": "55f19102",
   "metadata": {},
   "outputs": [
    {
     "name": "stdout",
     "output_type": "stream",
     "text": [
      "¡Conexion exitosa!!\n",
      "tabla actualizada\n"
     ]
    }
   ],
   "source": [
    "def update_table():\n",
    "    conn = connection()\n",
    "    cursor = conn.cursor()\n",
    "    update = \"\"\"ALTER TABLE candidates ADD COLUMN hired boolean\"\"\"\n",
    "    print(\"tabla actualizada\")\n",
    "    cursor.execute(update)\n",
    "    conn.commit()\n",
    "update_table()"
   ]
  },
  {
   "cell_type": "code",
   "execution_count": 36,
   "id": "0a097222",
   "metadata": {},
   "outputs": [
    {
     "name": "stdout",
     "output_type": "stream",
     "text": [
      "¡Conexion exitosa!!\n",
      "Columna hired actualizada\n"
     ]
    }
   ],
   "source": [
    "def update_hired():\n",
    "    conn = connection()\n",
    "    cursor = conn.cursor()\n",
    "    update = \"\"\"UPDATE candidates\n",
    "            SET hired = (code_challenge_score >= 7 AND technical_interview_score >= 7)\"\"\"\n",
    "    cursor.execute(update)\n",
    "    print(\"Columna hired actualizada\")\n",
    "    conn.commit()\n",
    "update_hired()"
   ]
  },
  {
   "cell_type": "code",
   "execution_count": 6,
   "id": "25052d5d",
   "metadata": {},
   "outputs": [
    {
     "name": "stdout",
     "output_type": "stream",
     "text": [
      "¡Conexion exitosa!!\n",
      "                                 Technology  Count\n",
      "0                 Development - CMS Backend    284\n",
      "1                                Salesforce    256\n",
      "2                             Data Engineer    255\n",
      "3                             QA Automation    243\n",
      "4                                     Sales    239\n",
      "5                                    DevOps    495\n",
      "6                                 QA Manual    259\n",
      "7                     System Administration    293\n",
      "8                   Development - FullStack    254\n",
      "9                   Database Administration    282\n",
      "10                    Business Intelligence    254\n",
      "11               Development - CMS Frontend    251\n",
      "12                         Game Development    519\n",
      "13                      Security Compliance    250\n",
      "14                           Client Success    271\n",
      "15                    Development - Backend    255\n",
      "16                   Development - Frontend    266\n",
      "17                                 Security    266\n",
      "18        Social Media Community Management    237\n",
      "19                                 Mulesoft    260\n",
      "20                        Technical Writing    223\n",
      "21                                   Design    249\n",
      "22                 Adobe Experience Manager    282\n",
      "23  Business Analytics / Project Management    255\n"
     ]
    }
   ],
   "source": [
    "def query1():\n",
    "    conn = connection()\n",
    "    cursor = conn.cursor()\n",
    "    technology=[]\n",
    "    Q1 = \"\"\"\n",
    "    SELECT technology, \n",
    "    COUNT(*) AS conteo FROM candidates WHERE hired = true GROUP BY technology  \n",
    "    \"\"\"\n",
    "\n",
    "    cursor.execute(Q1)\n",
    "    results=cursor.fetchall()\n",
    "    for row in results:\n",
    "        technology.append(row)\n",
    "    df = pd.DataFrame(technology)\n",
    "    df.columns=['Technology','Count']\n",
    "    print(df)\n",
    "    conn.commit()\n",
    "query1()"
   ]
  },
  {
   "cell_type": "code",
   "execution_count": 40,
   "id": "eaf4d373",
   "metadata": {},
   "outputs": [
    {
     "name": "stdout",
     "output_type": "stream",
     "text": [
      "¡Conexion exitosa!!\n",
      "[(Decimal('2021'), 1485), (Decimal('2020'), 1485), (Decimal('2022'), 795), (Decimal('2018'), 1409), (Decimal('2019'), 1524)]\n"
     ]
    }
   ],
   "source": [
    "def query2():\n",
    "    conn = connection()\n",
    "    cursor = conn.cursor()\n",
    "    Q2 = \"\"\"\n",
    "    SELECT EXTRACT(year FROM application_date) as year, \n",
    "    COUNT(*) AS conteo FROM candidates WHERE hired = true GROUP BY year; \n",
    "    \"\"\"\n",
    "\n",
    "    cursor.execute(Q2)\n",
    "    results=cursor.fetchall()\n",
    "    print(results)\n",
    "    conn.commit()\n",
    "query2()"
   ]
  },
  {
   "cell_type": "code",
   "execution_count": 42,
   "id": "c3b74fad",
   "metadata": {},
   "outputs": [
    {
     "name": "stdout",
     "output_type": "stream",
     "text": [
      "¡Conexion exitosa!!\n",
      "[('Trainee', 973), ('Senior', 939), ('Architect', 971), ('Intern', 985), ('Lead', 929), ('Mid-Level', 924), ('Junior', 977)]\n"
     ]
    }
   ],
   "source": [
    "def query3():\n",
    "    conn = connection()\n",
    "    cursor = conn.cursor()\n",
    "    Q3 = \"\"\"\n",
    "    SELECT seniority, \n",
    "    COUNT(*) AS conteo FROM candidates WHERE hired = true GROUP BY seniority \n",
    "    \"\"\"\n",
    "\n",
    "    cursor.execute(Q3)\n",
    "    results=cursor.fetchall()\n",
    "    print(results)\n",
    "    conn.commit()\n",
    "query3()"
   ]
  },
  {
   "cell_type": "code",
   "execution_count": 43,
   "id": "1f747b41",
   "metadata": {},
   "outputs": [
    {
     "name": "stdout",
     "output_type": "stream",
     "text": [
      "¡Conexion exitosa!!\n",
      "[(Decimal('2018'), 'Brazil', 9), (Decimal('2019'), 'Brazil', 7), (Decimal('2020'), 'Brazil', 6), (Decimal('2021'), 'Brazil', 7), (Decimal('2022'), 'Brazil', 4), (Decimal('2018'), 'Colombia', 7), (Decimal('2019'), 'Colombia', 8), (Decimal('2020'), 'Colombia', 8), (Decimal('2021'), 'Colombia', 1), (Decimal('2022'), 'Colombia', 1), (Decimal('2018'), 'Ecuador', 1), (Decimal('2019'), 'Ecuador', 3), (Decimal('2020'), 'Ecuador', 8), (Decimal('2021'), 'Ecuador', 5), (Decimal('2022'), 'Ecuador', 3), (Decimal('2018'), 'United States of America', 5), (Decimal('2019'), 'United States of America', 3), (Decimal('2020'), 'United States of America', 4), (Decimal('2021'), 'United States of America', 8), (Decimal('2022'), 'United States of America', 5)]\n"
     ]
    }
   ],
   "source": [
    "def query4():\n",
    "    conn = connection()\n",
    "    cursor = conn.cursor()\n",
    "    Q4 = \"\"\"\n",
    "    SELECT EXTRACT(year FROM application_date) as year, country, \n",
    "    COUNT(*) AS conteo FROM candidates WHERE hired = true AND country IN ('Brazil','Ecuador','United States of America','Colombia') GROUP BY country, year\n",
    "    \"\"\"\n",
    "\n",
    "    cursor.execute(Q4)\n",
    "    results=cursor.fetchall()\n",
    "    print(results)\n",
    "    conn.commit()\n",
    "query4()"
   ]
  }
 ],
 "metadata": {
  "kernelspec": {
   "display_name": "Python 3 (ipykernel)",
   "language": "python",
   "name": "python3"
  },
  "language_info": {
   "codemirror_mode": {
    "name": "ipython",
    "version": 3
   },
   "file_extension": ".py",
   "mimetype": "text/x-python",
   "name": "python",
   "nbconvert_exporter": "python",
   "pygments_lexer": "ipython3",
   "version": "3.9.12"
  }
 },
 "nbformat": 4,
 "nbformat_minor": 5
}
